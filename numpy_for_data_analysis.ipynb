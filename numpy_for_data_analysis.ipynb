{
  "nbformat": 4,
  "nbformat_minor": 0,
  "metadata": {
    "colab": {
      "provenance": []
    },
    "kernelspec": {
      "name": "python3",
      "display_name": "Python 3"
    },
    "language_info": {
      "name": "python"
    }
  },
  "cells": [
    {
      "cell_type": "code",
      "execution_count": 1,
      "metadata": {
        "colab": {
          "base_uri": "https://localhost:8080/"
        },
        "id": "7SUn9FsKBAOH",
        "outputId": "76122269-107a-4488-a610-ce286aa8fbc1"
      },
      "outputs": [
        {
          "output_type": "stream",
          "name": "stdout",
          "text": [
            "Requirement already satisfied: numpy in /usr/local/lib/python3.10/dist-packages (1.26.4)\n"
          ]
        }
      ],
      "source": [
        "!pip install numpy\n"
      ]
    },
    {
      "cell_type": "code",
      "source": [
        "import numpy as np\n",
        "# creating array\n",
        "arr1=np.array([1,2,2,3]) # one dimenssion on more correct only having 4 elements no any concepts of rows and columns\n",
        "print(arr1)\n",
        "print(type(arr1))\n",
        "arr1.shape"
      ],
      "metadata": {
        "colab": {
          "base_uri": "https://localhost:8080/"
        },
        "id": "-UQCVfWWCx1u",
        "outputId": "29d0fdd9-ed9d-45ad-83a2-9b285b78bcdd"
      },
      "execution_count": 4,
      "outputs": [
        {
          "output_type": "stream",
          "name": "stdout",
          "text": [
            "[1 2 2 3]\n",
            "<class 'numpy.ndarray'>\n"
          ]
        },
        {
          "output_type": "execute_result",
          "data": {
            "text/plain": [
              "(4,)"
            ]
          },
          "metadata": {},
          "execution_count": 4
        }
      ]
    },
    {
      "cell_type": "code",
      "source": [
        "arr2=np.array([1,2,2,3])\n",
        "arr2.reshape(1,4) # note= this will definetly make it 1,4 but on on finding shape of arr2 i will again got (4,) mean arr2 having 4 elemets\n"
      ],
      "metadata": {
        "colab": {
          "base_uri": "https://localhost:8080/"
        },
        "id": "HKVk4gw5Dl9O",
        "outputId": "bbb5f17d-3994-43b7-e17c-f94e49fed52b"
      },
      "execution_count": 7,
      "outputs": [
        {
          "output_type": "execute_result",
          "data": {
            "text/plain": [
              "array([[1, 2, 2, 3]])"
            ]
          },
          "metadata": {},
          "execution_count": 7
        }
      ]
    },
    {
      "cell_type": "code",
      "source": [
        "print(arr2.shape)"
      ],
      "metadata": {
        "colab": {
          "base_uri": "https://localhost:8080/"
        },
        "id": "3v7fdiL0Eaq1",
        "outputId": "c1e906d4-d7d9-4668-fa1f-e6feeb0248aa"
      },
      "execution_count": 11,
      "outputs": [
        {
          "output_type": "stream",
          "name": "stdout",
          "text": [
            "(4,)\n"
          ]
        }
      ]
    },
    {
      "cell_type": "code",
      "source": [
        "arr3=np.array([[1,4,7]]) # now this is completly can be refer as the (1,3)\n",
        "arr3.shape"
      ],
      "metadata": {
        "colab": {
          "base_uri": "https://localhost:8080/"
        },
        "id": "fxCrSjw6EkPz",
        "outputId": "66817e11-e585-46c9-82fe-0304a0e7122a"
      },
      "execution_count": 10,
      "outputs": [
        {
          "output_type": "execute_result",
          "data": {
            "text/plain": [
              "(1, 3)"
            ]
          },
          "metadata": {},
          "execution_count": 10
        }
      ]
    },
    {
      "cell_type": "code",
      "source": [
        "# 2d array\n",
        "arr3=np.array([[1,4,7],[2,5,8]]) # now this is completly can be refer as the (2,3)\n",
        "print(arr3)\n",
        "arr3.shape"
      ],
      "metadata": {
        "colab": {
          "base_uri": "https://localhost:8080/"
        },
        "id": "XLcaJ3cVFQ1C",
        "outputId": "51a8f16e-757b-44c3-c39b-eb4456c14140"
      },
      "execution_count": 12,
      "outputs": [
        {
          "output_type": "stream",
          "name": "stdout",
          "text": [
            "[[1 4 7]\n",
            " [2 5 8]]\n"
          ]
        },
        {
          "output_type": "execute_result",
          "data": {
            "text/plain": [
              "(2, 3)"
            ]
          },
          "metadata": {},
          "execution_count": 12
        }
      ]
    },
    {
      "cell_type": "code",
      "source": [
        "# some of the inbuilt function in numpy array"
      ],
      "metadata": {
        "id": "CYwhIkJUF0W7"
      },
      "execution_count": null,
      "outputs": []
    },
    {
      "cell_type": "code",
      "source": [
        "np.arange(0,10,2) # (start,end not included,step size)\n"
      ],
      "metadata": {
        "colab": {
          "base_uri": "https://localhost:8080/"
        },
        "id": "0MHRRCBXGb8v",
        "outputId": "168b2d17-be4a-4563-e457-544bced30650"
      },
      "execution_count": 24,
      "outputs": [
        {
          "output_type": "execute_result",
          "data": {
            "text/plain": [
              "array([0, 2, 4, 6, 8])"
            ]
          },
          "metadata": {},
          "execution_count": 24
        }
      ]
    },
    {
      "cell_type": "code",
      "source": [
        "np.ones((3,4))"
      ],
      "metadata": {
        "colab": {
          "base_uri": "https://localhost:8080/"
        },
        "id": "7xAiZByhHbu4",
        "outputId": "626f16b8-5759-4332-b2a3-c8a2ee30ddf8"
      },
      "execution_count": 23,
      "outputs": [
        {
          "output_type": "execute_result",
          "data": {
            "text/plain": [
              "array([[1., 1., 1., 1.],\n",
              "       [1., 1., 1., 1.],\n",
              "       [1., 1., 1., 1.]])"
            ]
          },
          "metadata": {},
          "execution_count": 23
        }
      ]
    },
    {
      "cell_type": "code",
      "source": [
        "np.eye(3) # creation of identity matrix"
      ],
      "metadata": {
        "colab": {
          "base_uri": "https://localhost:8080/"
        },
        "id": "qjzIJ4BrHvXs",
        "outputId": "3208d770-53b7-4696-cc40-22fe6424075e"
      },
      "execution_count": 26,
      "outputs": [
        {
          "output_type": "execute_result",
          "data": {
            "text/plain": [
              "array([[1., 0., 0.],\n",
              "       [0., 1., 0.],\n",
              "       [0., 0., 1.]])"
            ]
          },
          "metadata": {},
          "execution_count": 26
        }
      ]
    },
    {
      "cell_type": "code",
      "source": [
        "# numpy vectorizes operations\n"
      ],
      "metadata": {
        "id": "kYkctVCXH75H"
      },
      "execution_count": null,
      "outputs": []
    },
    {
      "cell_type": "code",
      "source": [
        "arr1=np.array([1,2,3])\n",
        "arr2=np.array([4,5,6])\n",
        "# elements wise addition\n",
        "print(\"addition\",arr1+arr2)\n",
        "# elements wise substraction\n",
        "print(\"substraction\",arr1-arr2)\n",
        "# elements wise multiplication\n",
        "print(\"multiplication\",arr1*arr2)\n",
        "# elements wise division\n",
        "print(\"division\",arr1/arr2)\n"
      ],
      "metadata": {
        "colab": {
          "base_uri": "https://localhost:8080/"
        },
        "id": "QzUDB1ytIsEc",
        "outputId": "fa5fc1f2-c56c-49d8-9681-f37ac022b9f9"
      },
      "execution_count": 28,
      "outputs": [
        {
          "output_type": "stream",
          "name": "stdout",
          "text": [
            "addition [5 7 9]\n",
            "substraction [-3 -3 -3]\n",
            "multiplication [ 4 10 18]\n",
            "division [0.25 0.4  0.5 ]\n"
          ]
        }
      ]
    },
    {
      "cell_type": "code",
      "source": [
        "# some universal functions"
      ],
      "metadata": {
        "id": "y1UkzzkIJyql"
      },
      "execution_count": null,
      "outputs": []
    },
    {
      "cell_type": "code",
      "source": [
        "arr=np.array([1,4,9,16,25])\n",
        "# square root\n",
        "print(np.sqrt(arr))\n",
        "# exponential\n",
        "print(np.exp(arr))\n",
        "# log\n",
        "print(np.log(arr))\n",
        "# sin\n",
        "print(np.sin(arr))\n"
      ],
      "metadata": {
        "colab": {
          "base_uri": "https://localhost:8080/"
        },
        "id": "-5PXEAblJ1oV",
        "outputId": "d14ae319-8a12-4e4a-a9ff-b6e1cf391ecc"
      },
      "execution_count": 30,
      "outputs": [
        {
          "output_type": "stream",
          "name": "stdout",
          "text": [
            "[1. 2. 3. 4. 5.]\n",
            "[2.71828183e+00 5.45981500e+01 8.10308393e+03 8.88611052e+06\n",
            " 7.20048993e+10]\n",
            "[0.         1.38629436 2.19722458 2.77258872 3.21887582]\n",
            "[ 0.84147098 -0.7568025   0.41211849 -0.28790332 -0.13235175]\n"
          ]
        }
      ]
    },
    {
      "cell_type": "code",
      "source": [
        "# slicing and indexing over numpy array"
      ],
      "metadata": {
        "id": "2WIWhxjgLivs"
      },
      "execution_count": null,
      "outputs": []
    },
    {
      "cell_type": "code",
      "source": [
        "arr=([[1,2,3],[4,5,6],[7,8,9]])\n",
        "# note= indexing always starts from zero\n",
        "print(\"array:\\n\",arr)# array\n",
        "print(arr[0][0]) # first element\n",
        "print(arr[[0][0]])# first row"
      ],
      "metadata": {
        "colab": {
          "base_uri": "https://localhost:8080/"
        },
        "id": "ht7Vf6uWLnRa",
        "outputId": "a56556ff-bea4-4141-cc84-83b89af2d042"
      },
      "execution_count": 47,
      "outputs": [
        {
          "output_type": "stream",
          "name": "stdout",
          "text": [
            "array:\n",
            " [[1, 2, 3], [4, 5, 6], [7, 8, 9]]\n",
            "1\n",
            "[1, 2, 3]\n"
          ]
        }
      ]
    },
    {
      "cell_type": "code",
      "source": [
        "# array elements can be modified\n",
        "# some prectical implimentation related to the array"
      ],
      "metadata": {
        "id": "16tlfQhRN2bE"
      },
      "execution_count": 52,
      "outputs": []
    },
    {
      "cell_type": "code",
      "source": [
        "data=np.array([1,2,3,4,5])\n",
        "mean=np.mean(data)\n",
        "print(mean)\n",
        "std_dev=np.std(data)\n",
        "print(std_dev)\n",
        "normalize_data=(data-mean)/std_dev\n",
        "print(normalize_data) # data normaization mean making mean= 0 and std_dev=1\n"
      ],
      "metadata": {
        "colab": {
          "base_uri": "https://localhost:8080/"
        },
        "id": "1MvYrzQ6QMUq",
        "outputId": "2ed12a80-dace-41ae-f307-d2524b07d8ca"
      },
      "execution_count": 53,
      "outputs": [
        {
          "output_type": "stream",
          "name": "stdout",
          "text": [
            "3.0\n",
            "1.4142135623730951\n",
            "[-1.41421356 -0.70710678  0.          0.70710678  1.41421356]\n"
          ]
        }
      ]
    },
    {
      "cell_type": "code",
      "source": [
        "# measure of centerality\n",
        "arr=np.array([1,2,3,4,5])\n",
        "print(np.mean(arr))\n",
        "print(np.median(arr))\n",
        "print(np.std(arr))\n",
        "print(np.var(arr))"
      ],
      "metadata": {
        "colab": {
          "base_uri": "https://localhost:8080/"
        },
        "id": "JwoV8yE8RRIM",
        "outputId": "296a2e52-5e75-481f-d466-65d9cc6e5be7"
      },
      "execution_count": 55,
      "outputs": [
        {
          "output_type": "stream",
          "name": "stdout",
          "text": [
            "3.0\n",
            "3.0\n",
            "1.4142135623730951\n",
            "2.0\n"
          ]
        }
      ]
    },
    {
      "cell_type": "code",
      "source": [
        "#some logical operations\n",
        "arr=np.array([1,2,3,4,5,6,7,8,9])\n",
        "print(arr>5)\n",
        "print(arr[arr>5])\n",
        "print(arr[(arr>=3) & (arr<=8)])\n",
        "\n"
      ],
      "metadata": {
        "colab": {
          "base_uri": "https://localhost:8080/"
        },
        "id": "xPT9sJfpR8-l",
        "outputId": "ef15718d-4124-4a9c-c8f9-59e5d105ef43"
      },
      "execution_count": 64,
      "outputs": [
        {
          "output_type": "stream",
          "name": "stdout",
          "text": [
            "[False False False False False  True  True  True  True]\n",
            "[6 7 8 9]\n",
            "[3 4 5 6 7 8]\n"
          ]
        }
      ]
    }
  ]
}